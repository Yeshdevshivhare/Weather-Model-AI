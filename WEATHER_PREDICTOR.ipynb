{
  "cells": [
    {
      "cell_type": "code",
      "execution_count": null,
      "metadata": {
        "id": "f5dXI7Aw7cfq"
      },
      "outputs": [],
      "source": [
        "import requests\n",
        "import pandas as pd\n",
        "import numpy as np\n",
        "from sklearn.model_selection import train_test_split\n",
        "from sklearn.preprocessing import LabelEncoder\n",
        "from sklearn.ensemble import RandomForestClassifier,RandomForestRegressor\n",
        "from sklearn.metrics import mean_squared_error\n",
        "from datetime import datetime,timedelta\n",
        "import pytz"
      ]
    },
    {
      "cell_type": "code",
      "execution_count": null,
      "metadata": {
        "id": "LU91b-NP85ER"
      },
      "outputs": [],
      "source": [
        "API_KEY='54adafa78659ef682f7075e7af64e1fb'\n",
        "BASE_URL='https://api.openweathermap.org/data/2.5/'"
      ]
    },
    {
      "cell_type": "markdown",
      "metadata": {
        "id": "cnParMzn361C"
      },
      "source": [
        "Fetching Current DAta"
      ]
    },
    {
      "cell_type": "code",
      "execution_count": null,
      "metadata": {
        "id": "tuZMJzgk3ybL"
      },
      "outputs": [],
      "source": [
        "def get_current_weather(city):\n",
        "  url=f\"{BASE_URL}weather?q={city}&appid={API_KEY}&units=metric\"\n",
        "  response=requests.get(url)\n",
        "  data= response.json()\n",
        "  return {\n",
        "      'city': data['name'],\n",
        "      'current_temp': round(data['main']['temp']),\n",
        "      'feels_like': round(data['main']['feels_like']),\n",
        "      'temp_min': round(data['main']['temp_min']),\n",
        "      'temp_max': round(data['main']['temp_max']),\n",
        "      'pressure': data['main']['pressure'],\n",
        "      'humidity': round(data['main']['humidity']),\n",
        "      'wind_speed': data['wind']['speed'],\n",
        "      'description': data['weather'][0]['description'],\n",
        "      'country': data['sys']['country'],\n",
        "      'wind_gust_dir': data['wind']['deg'],\n",
        "      'wind_gust_speed': data['wind']['speed'],\n",
        "  }"
      ]
    },
    {
      "cell_type": "markdown",
      "metadata": {
        "id": "lEgJA5aA6b2E"
      },
      "source": [
        "reading historical data"
      ]
    },
    {
      "cell_type": "code",
      "execution_count": null,
      "metadata": {
        "id": "Sz9ExvlI6gsj"
      },
      "outputs": [],
      "source": [
        "def read_historical_data(filename):\n",
        "  df=pd.read_csv(filename)\n",
        "  df=df.dropna()\n",
        "  df=df.drop_duplicates()\n",
        "  return df"
      ]
    },
    {
      "cell_type": "markdown",
      "metadata": {
        "id": "pHw70YxL7Hvr"
      },
      "source": [
        "testing and preparing data for ML"
      ]
    },
    {
      "cell_type": "code",
      "execution_count": null,
      "metadata": {
        "id": "e2PsDUmw7L3C"
      },
      "outputs": [],
      "source": [
        "def prepare_data(data):\n",
        "  le=LabelEncoder()\n",
        "  #data['city']=le.fit_transform(data['city'])\n",
        "  data['WindGustDir']=le.fit_transform(data['WindGustDir'])\n",
        "  data['RainTomorrow']=le.fit_transform(data['RainTomorrow'])\n",
        "\n",
        "  X=data[['MinTemp','MaxTemp','WindGustDir','WindGustSpeed','Humidity','Pressure','Temp']]\n",
        "  Y=data['RainTomorrow']\n",
        "  return X,Y,le"
      ]
    },
    {
      "cell_type": "markdown",
      "metadata": {
        "id": "vzR_tO3r-BMs"
      },
      "source": [
        "train rain prediction model"
      ]
    },
    {
      "cell_type": "code",
      "execution_count": null,
      "metadata": {
        "id": "0LLDoB3N-DxE"
      },
      "outputs": [],
      "source": [
        "def train_rain_model(X,Y):\n",
        "  X_train,X_test,Y_train,Y_test=train_test_split(X,Y,test_size=0.2,random_state=42)\n",
        "  model=RandomForestClassifier(n_estimators=100,random_state=42)\n",
        "  model.fit(X_train,Y_train)\n",
        "  Y_pred=model.predict(X_test)\n",
        "  print(\"Mean Square error for rain model\")\n",
        "  print(mean_squared_error(Y_test,Y_pred))\n",
        "  return model"
      ]
    },
    {
      "cell_type": "markdown",
      "metadata": {
        "id": "9tNqREou_F8L"
      },
      "source": [
        "prepare regression data"
      ]
    },
    {
      "cell_type": "code",
      "execution_count": null,
      "metadata": {
        "id": "r882QJjZ_Kiz"
      },
      "outputs": [],
      "source": [
        "def prepare_regression_data(data,feature):\n",
        "  X,Y=[],[]\n",
        "  for i in range(len(data)-1):\n",
        "    X.append(data[feature].iloc[i])\n",
        "    Y.append(data[feature].iloc[i+1])\n",
        "  return np.array(X).reshape(-1,1),np.array(Y)"
      ]
    },
    {
      "cell_type": "markdown",
      "metadata": {
        "id": "gd9z3oTODIPT"
      },
      "source": [
        "train regression data"
      ]
    },
    {
      "cell_type": "code",
      "execution_count": null,
      "metadata": {
        "id": "dhg7snHiDJ-b"
      },
      "outputs": [],
      "source": [
        "def train_regression_model(X,Y):\n",
        "  model=RandomForestRegressor(n_estimators=100,random_state=42)\n",
        "  model.fit(X,Y)\n",
        "  return model"
      ]
    },
    {
      "cell_type": "markdown",
      "metadata": {
        "id": "tdN6O5YTElb8"
      },
      "source": [
        "future prediction"
      ]
    },
    {
      "cell_type": "code",
      "execution_count": null,
      "metadata": {
        "id": "fTKNrvuVEnJa"
      },
      "outputs": [],
      "source": [
        "def predict_future(model,current_value):\n",
        "  predictions=[current_value]\n",
        "  for i in range(5):\n",
        "    next_value=model.predict(np.array([[predictions[-1]]]))\n",
        "    predictions.append(next_value[0])\n",
        "  return predictions[1:]"
      ]
    },
    {
      "cell_type": "markdown",
      "metadata": {
        "id": "4gTtjfwBssPd"
      },
      "source": [
        "Weather Analysis"
      ]
    },
    {
      "cell_type": "code",
      "execution_count": null,
      "metadata": {
        "colab": {
          "base_uri": "https://localhost:8080/"
        },
        "id": "7582e90b",
        "outputId": "152805f3-fbea-4f5f-d670-ad0a94870eec"
      },
      "outputs": [
        {
          "name": "stdout",
          "output_type": "stream",
          "text": [
            "Index(['MinTemp', 'MaxTemp', 'WindGustDir', 'WindGustSpeed', 'Humidity',\n",
            "       'Pressure', 'Temp', 'RainTomorrow'],\n",
            "      dtype='object')\n"
          ]
        }
      ],
      "source": [
        "historical_data = read_historical_data('/content/weather.csv')\n",
        "print(historical_data.columns)"
      ]
    },
    {
      "cell_type": "code",
      "execution_count": null,
      "metadata": {
        "colab": {
          "base_uri": "https://localhost:8080/"
        },
        "id": "oDAdID60swQL",
        "outputId": "201d37a5-ed01-4067-93c7-0b87559b93c5"
      },
      "outputs": [
        {
          "name": "stdout",
          "output_type": "stream",
          "text": [
            "Enter city name: Kolkata\n",
            "Mean Square error for rain model\n",
            "0.1506849315068493\n",
            "City: Kolkata, IN\n",
            "Current Temperature: 30°C\n",
            "Feels Like: 37°C\n",
            "Minimum Temperature: 30°C\n",
            "Maximum Temperature: 30°C\n",
            "Pressure: 1001 hPa\n",
            "Humidity: 79%\n",
            "Weather Description: haze\n",
            "Rain Prediction: Yes\n",
            "\n",
            " Future Temprature Predictions: \n",
            "14:00: 28.5°C\n",
            "15:00: 22.0°C\n",
            "16:00: 23.9°C\n",
            "17:00: 21.4°C\n",
            "18:00: 22.7°C\n",
            "\n",
            " Future Humidity Predictions: \n",
            "14:00: 54.0%\n",
            "15:00: 58.1%\n",
            "16:00: 54.2%\n",
            "17:00: 58.1%\n",
            "18:00: 54.2%\n"
          ]
        }
      ],
      "source": [
        "def weather_view():\n",
        "  city=input(\"Enter city name: \")\n",
        "  current_weather=get_current_weather(city)\n",
        "\n",
        "  #load historical data\n",
        "  historical_data=read_historical_data('/content/weather.csv')\n",
        "  #prepare\n",
        "  X,Y,le=prepare_data(historical_data)\n",
        "  #train\n",
        "  rain_model=train_rain_model(X,Y)\n",
        "  # Map wind direction to compass points\n",
        "  wind_deg = current_weather['wind_gust_dir'] % 360\n",
        "  compass_points = [\n",
        "      (\"N\", 0, 11.25), (\"NNE\", 11.25, 33.75), (\"NE\", 33.75, 56.25),\n",
        "      (\"ENE\", 56.25, 78.75), (\"E\", 78.75, 101.25), (\"ESE\", 101.25, 123.75),\n",
        "      (\"SE\", 123.75, 146.25), (\"SSE\", 146.25, 168.75), (\"S\", 168.75, 191.25),\n",
        "      (\"SSW\", 191.25, 213.75), (\"SW\", 213.75, 236.25), (\"WSW\", 236.25, 258.75),\n",
        "      (\"W\", 258.75, 281.25), (\"WNW\", 281.25, 303.75), (\"NW\", 303.75, 326.25),\n",
        "      (\"NNW\", 326.25, 348.75)\n",
        "  ]\n",
        "\n",
        "  compass_direction = next(point for point, start, end in compass_points if start <= wind_deg < end)\n",
        "\n",
        "  compass_direction_encoded=le.transform([compass_direction])[0] if compass_direction in le.classes_ else -1\n",
        "\n",
        "  current_data={\n",
        "      'MinTemp': current_weather['temp_min'],\n",
        "      'MaxTemp': current_weather['temp_max'],\n",
        "      'WindGustDir':compass_direction_encoded,\n",
        "      'WindGustSpeed': current_weather['wind_gust_speed'],\n",
        "      'Humidity': current_weather['humidity'],\n",
        "      'Pressure': current_weather['pressure'],\n",
        "      'Temp': current_weather['current_temp'],\n",
        "\n",
        "  }\n",
        "\n",
        "  current_df=pd.DataFrame([current_data])\n",
        "  #rain predictor\n",
        "  rain_prediction=rain_model.predict(current_df)[0]\n",
        "  #prepare regression data\n",
        "  X_temp,Y_temp=prepare_regression_data(historical_data,'Temp')\n",
        "  X_hum,Y_hum=prepare_regression_data(historical_data,'Humidity')\n",
        "  temp_model=train_regression_model(X_temp,Y_temp)\n",
        "  hum_model=train_regression_model(X_hum,Y_hum)\n",
        "  #predict future temp and humidity\n",
        "  future_temp= predict_future(temp_model,current_weather['temp_min'])\n",
        "  future_humidity= predict_future(hum_model,current_weather['humidity'])\n",
        "\n",
        "  #prepare timezone\n",
        "\n",
        "  timezone=pytz.timezone('Asia/Kolkata')\n",
        "  now=datetime.now(timezone)\n",
        "  next_hour= now+timedelta(hours=1)\n",
        "  next_hour=next_hour.replace(minute=0,second=0,microsecond=0)\n",
        "  future_times= [(next_hour+timedelta(hours=i)).strftime(\"%H:00\") for i in range(5)]\n",
        "\n",
        "  #results\n",
        "\n",
        "  print(f\"City: {city}, {current_weather['country']}\")\n",
        "  print(f\"Current Temperature: {current_weather['current_temp']}°C\")\n",
        "  print(f\"Feels Like: {current_weather['feels_like']}°C\")\n",
        "  print(f\"Minimum Temperature: {current_weather['temp_min']}°C\")\n",
        "  print(f\"Maximum Temperature: {current_weather['temp_max']}°C\")\n",
        "  print(f\"Pressure: {current_weather['pressure']} hPa\")\n",
        "  print(f\"Humidity: {current_weather['humidity']}%\")\n",
        "  print(f\"Weather Description: {current_weather['description']}\")\n",
        "  print(f\"Rain Prediction: {'Yes' if rain_prediction else 'No' }\")\n",
        "\n",
        "  print(\"\\n Future Temprature Predictions: \")\n",
        "\n",
        "  for time,temp in zip(future_times,future_temp):\n",
        "    print(f\"{time}: {round(temp,1)}°C\")\n",
        "\n",
        "  print(\"\\n Future Humidity Predictions: \")\n",
        "\n",
        "  for time,humidity in zip(future_times,future_humidity):\n",
        "    print(f\"{time}: {round(humidity, 1)}%\")\n",
        "\n",
        "weather_view()"
      ]
    }
  ],
  "metadata": {
    "colab": {
      "provenance": []
    },
    "kernelspec": {
      "display_name": "Python 3",
      "name": "python3"
    },
    "language_info": {
      "name": "python"
    }
  },
  "nbformat": 4,
  "nbformat_minor": 0
}
